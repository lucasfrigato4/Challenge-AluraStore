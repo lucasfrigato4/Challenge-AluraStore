{
  "nbformat": 4,
  "nbformat_minor": 0,
  "metadata": {
    "colab": {
      "provenance": []
    },
    "kernelspec": {
      "name": "python3",
      "display_name": "Python 3"
    },
    "language_info": {
      "name": "python"
    }
  },
  "cells": [
    {
      "cell_type": "markdown",
      "source": [
        "### Importação dos dados\n",
        "\n"
      ],
      "metadata": {
        "id": "RhEdWd9YUR6H"
      }
    },
    {
      "cell_type": "code",
      "execution_count": 13,
      "metadata": {
        "colab": {
          "base_uri": "https://localhost:8080/",
          "height": 248
        },
        "id": "T3EvaeQ_INIL",
        "outputId": "a1cba271-f2a5-4311-c40b-2abe75506d3f"
      },
      "outputs": [
        {
          "output_type": "execute_result",
          "data": {
            "text/plain": [
              "                 Produto Categoria do Produto    Preço      Frete  \\\n",
              "0     Assistente virtual          eletronicos   219.08   9.249790   \n",
              "1         Mesa de jantar               moveis   256.35  11.234305   \n",
              "2      Jogo de tabuleiro           brinquedos   279.51  21.262681   \n",
              "3            Micro-ondas     eletrodomesticos  1009.99  54.667344   \n",
              "4  Cadeira de escritório               moveis   446.99  26.964689   \n",
              "\n",
              "  Data da Compra        Vendedor Local da compra  Avaliação da compra  \\\n",
              "0     16/01/2021     Pedro Gomes              SP                    4   \n",
              "1     18/05/2022  Beatriz Moraes              RJ                    1   \n",
              "2     15/03/2021      João Souza              DF                    1   \n",
              "3     03/05/2022      João Souza              RS                    4   \n",
              "4     07/11/2020   Larissa Alves              MG                    5   \n",
              "\n",
              "  Tipo de pagamento  Quantidade de parcelas    lat    lon  \n",
              "0    cartao_credito                       8 -22.19 -48.79  \n",
              "1    cartao_credito                       4 -22.25 -42.66  \n",
              "2    cartao_credito                       1 -15.83 -47.86  \n",
              "3            boleto                       1 -30.17 -53.50  \n",
              "4            boleto                       1 -18.10 -44.38  "
            ],
            "text/html": [
              "\n",
              "  <div id=\"df-91971cdd-eda8-4450-a41f-cdada208adbb\" class=\"colab-df-container\">\n",
              "    <div>\n",
              "<style scoped>\n",
              "    .dataframe tbody tr th:only-of-type {\n",
              "        vertical-align: middle;\n",
              "    }\n",
              "\n",
              "    .dataframe tbody tr th {\n",
              "        vertical-align: top;\n",
              "    }\n",
              "\n",
              "    .dataframe thead th {\n",
              "        text-align: right;\n",
              "    }\n",
              "</style>\n",
              "<table border=\"1\" class=\"dataframe\">\n",
              "  <thead>\n",
              "    <tr style=\"text-align: right;\">\n",
              "      <th></th>\n",
              "      <th>Produto</th>\n",
              "      <th>Categoria do Produto</th>\n",
              "      <th>Preço</th>\n",
              "      <th>Frete</th>\n",
              "      <th>Data da Compra</th>\n",
              "      <th>Vendedor</th>\n",
              "      <th>Local da compra</th>\n",
              "      <th>Avaliação da compra</th>\n",
              "      <th>Tipo de pagamento</th>\n",
              "      <th>Quantidade de parcelas</th>\n",
              "      <th>lat</th>\n",
              "      <th>lon</th>\n",
              "    </tr>\n",
              "  </thead>\n",
              "  <tbody>\n",
              "    <tr>\n",
              "      <th>0</th>\n",
              "      <td>Assistente virtual</td>\n",
              "      <td>eletronicos</td>\n",
              "      <td>219.08</td>\n",
              "      <td>9.249790</td>\n",
              "      <td>16/01/2021</td>\n",
              "      <td>Pedro Gomes</td>\n",
              "      <td>SP</td>\n",
              "      <td>4</td>\n",
              "      <td>cartao_credito</td>\n",
              "      <td>8</td>\n",
              "      <td>-22.19</td>\n",
              "      <td>-48.79</td>\n",
              "    </tr>\n",
              "    <tr>\n",
              "      <th>1</th>\n",
              "      <td>Mesa de jantar</td>\n",
              "      <td>moveis</td>\n",
              "      <td>256.35</td>\n",
              "      <td>11.234305</td>\n",
              "      <td>18/05/2022</td>\n",
              "      <td>Beatriz Moraes</td>\n",
              "      <td>RJ</td>\n",
              "      <td>1</td>\n",
              "      <td>cartao_credito</td>\n",
              "      <td>4</td>\n",
              "      <td>-22.25</td>\n",
              "      <td>-42.66</td>\n",
              "    </tr>\n",
              "    <tr>\n",
              "      <th>2</th>\n",
              "      <td>Jogo de tabuleiro</td>\n",
              "      <td>brinquedos</td>\n",
              "      <td>279.51</td>\n",
              "      <td>21.262681</td>\n",
              "      <td>15/03/2021</td>\n",
              "      <td>João Souza</td>\n",
              "      <td>DF</td>\n",
              "      <td>1</td>\n",
              "      <td>cartao_credito</td>\n",
              "      <td>1</td>\n",
              "      <td>-15.83</td>\n",
              "      <td>-47.86</td>\n",
              "    </tr>\n",
              "    <tr>\n",
              "      <th>3</th>\n",
              "      <td>Micro-ondas</td>\n",
              "      <td>eletrodomesticos</td>\n",
              "      <td>1009.99</td>\n",
              "      <td>54.667344</td>\n",
              "      <td>03/05/2022</td>\n",
              "      <td>João Souza</td>\n",
              "      <td>RS</td>\n",
              "      <td>4</td>\n",
              "      <td>boleto</td>\n",
              "      <td>1</td>\n",
              "      <td>-30.17</td>\n",
              "      <td>-53.50</td>\n",
              "    </tr>\n",
              "    <tr>\n",
              "      <th>4</th>\n",
              "      <td>Cadeira de escritório</td>\n",
              "      <td>moveis</td>\n",
              "      <td>446.99</td>\n",
              "      <td>26.964689</td>\n",
              "      <td>07/11/2020</td>\n",
              "      <td>Larissa Alves</td>\n",
              "      <td>MG</td>\n",
              "      <td>5</td>\n",
              "      <td>boleto</td>\n",
              "      <td>1</td>\n",
              "      <td>-18.10</td>\n",
              "      <td>-44.38</td>\n",
              "    </tr>\n",
              "  </tbody>\n",
              "</table>\n",
              "</div>\n",
              "    <div class=\"colab-df-buttons\">\n",
              "\n",
              "  <div class=\"colab-df-container\">\n",
              "    <button class=\"colab-df-convert\" onclick=\"convertToInteractive('df-91971cdd-eda8-4450-a41f-cdada208adbb')\"\n",
              "            title=\"Convert this dataframe to an interactive table.\"\n",
              "            style=\"display:none;\">\n",
              "\n",
              "  <svg xmlns=\"http://www.w3.org/2000/svg\" height=\"24px\" viewBox=\"0 -960 960 960\">\n",
              "    <path d=\"M120-120v-720h720v720H120Zm60-500h600v-160H180v160Zm220 220h160v-160H400v160Zm0 220h160v-160H400v160ZM180-400h160v-160H180v160Zm440 0h160v-160H620v160ZM180-180h160v-160H180v160Zm440 0h160v-160H620v160Z\"/>\n",
              "  </svg>\n",
              "    </button>\n",
              "\n",
              "  <style>\n",
              "    .colab-df-container {\n",
              "      display:flex;\n",
              "      gap: 12px;\n",
              "    }\n",
              "\n",
              "    .colab-df-convert {\n",
              "      background-color: #E8F0FE;\n",
              "      border: none;\n",
              "      border-radius: 50%;\n",
              "      cursor: pointer;\n",
              "      display: none;\n",
              "      fill: #1967D2;\n",
              "      height: 32px;\n",
              "      padding: 0 0 0 0;\n",
              "      width: 32px;\n",
              "    }\n",
              "\n",
              "    .colab-df-convert:hover {\n",
              "      background-color: #E2EBFA;\n",
              "      box-shadow: 0px 1px 2px rgba(60, 64, 67, 0.3), 0px 1px 3px 1px rgba(60, 64, 67, 0.15);\n",
              "      fill: #174EA6;\n",
              "    }\n",
              "\n",
              "    .colab-df-buttons div {\n",
              "      margin-bottom: 4px;\n",
              "    }\n",
              "\n",
              "    [theme=dark] .colab-df-convert {\n",
              "      background-color: #3B4455;\n",
              "      fill: #D2E3FC;\n",
              "    }\n",
              "\n",
              "    [theme=dark] .colab-df-convert:hover {\n",
              "      background-color: #434B5C;\n",
              "      box-shadow: 0px 1px 3px 1px rgba(0, 0, 0, 0.15);\n",
              "      filter: drop-shadow(0px 1px 2px rgba(0, 0, 0, 0.3));\n",
              "      fill: #FFFFFF;\n",
              "    }\n",
              "  </style>\n",
              "\n",
              "    <script>\n",
              "      const buttonEl =\n",
              "        document.querySelector('#df-91971cdd-eda8-4450-a41f-cdada208adbb button.colab-df-convert');\n",
              "      buttonEl.style.display =\n",
              "        google.colab.kernel.accessAllowed ? 'block' : 'none';\n",
              "\n",
              "      async function convertToInteractive(key) {\n",
              "        const element = document.querySelector('#df-91971cdd-eda8-4450-a41f-cdada208adbb');\n",
              "        const dataTable =\n",
              "          await google.colab.kernel.invokeFunction('convertToInteractive',\n",
              "                                                    [key], {});\n",
              "        if (!dataTable) return;\n",
              "\n",
              "        const docLinkHtml = 'Like what you see? Visit the ' +\n",
              "          '<a target=\"_blank\" href=https://colab.research.google.com/notebooks/data_table.ipynb>data table notebook</a>'\n",
              "          + ' to learn more about interactive tables.';\n",
              "        element.innerHTML = '';\n",
              "        dataTable['output_type'] = 'display_data';\n",
              "        await google.colab.output.renderOutput(dataTable, element);\n",
              "        const docLink = document.createElement('div');\n",
              "        docLink.innerHTML = docLinkHtml;\n",
              "        element.appendChild(docLink);\n",
              "      }\n",
              "    </script>\n",
              "  </div>\n",
              "\n",
              "\n",
              "    <div id=\"df-f9ab8dd6-bd9a-43a9-bac4-658e5a0f67ca\">\n",
              "      <button class=\"colab-df-quickchart\" onclick=\"quickchart('df-f9ab8dd6-bd9a-43a9-bac4-658e5a0f67ca')\"\n",
              "                title=\"Suggest charts\"\n",
              "                style=\"display:none;\">\n",
              "\n",
              "<svg xmlns=\"http://www.w3.org/2000/svg\" height=\"24px\"viewBox=\"0 0 24 24\"\n",
              "     width=\"24px\">\n",
              "    <g>\n",
              "        <path d=\"M19 3H5c-1.1 0-2 .9-2 2v14c0 1.1.9 2 2 2h14c1.1 0 2-.9 2-2V5c0-1.1-.9-2-2-2zM9 17H7v-7h2v7zm4 0h-2V7h2v10zm4 0h-2v-4h2v4z\"/>\n",
              "    </g>\n",
              "</svg>\n",
              "      </button>\n",
              "\n",
              "<style>\n",
              "  .colab-df-quickchart {\n",
              "      --bg-color: #E8F0FE;\n",
              "      --fill-color: #1967D2;\n",
              "      --hover-bg-color: #E2EBFA;\n",
              "      --hover-fill-color: #174EA6;\n",
              "      --disabled-fill-color: #AAA;\n",
              "      --disabled-bg-color: #DDD;\n",
              "  }\n",
              "\n",
              "  [theme=dark] .colab-df-quickchart {\n",
              "      --bg-color: #3B4455;\n",
              "      --fill-color: #D2E3FC;\n",
              "      --hover-bg-color: #434B5C;\n",
              "      --hover-fill-color: #FFFFFF;\n",
              "      --disabled-bg-color: #3B4455;\n",
              "      --disabled-fill-color: #666;\n",
              "  }\n",
              "\n",
              "  .colab-df-quickchart {\n",
              "    background-color: var(--bg-color);\n",
              "    border: none;\n",
              "    border-radius: 50%;\n",
              "    cursor: pointer;\n",
              "    display: none;\n",
              "    fill: var(--fill-color);\n",
              "    height: 32px;\n",
              "    padding: 0;\n",
              "    width: 32px;\n",
              "  }\n",
              "\n",
              "  .colab-df-quickchart:hover {\n",
              "    background-color: var(--hover-bg-color);\n",
              "    box-shadow: 0 1px 2px rgba(60, 64, 67, 0.3), 0 1px 3px 1px rgba(60, 64, 67, 0.15);\n",
              "    fill: var(--button-hover-fill-color);\n",
              "  }\n",
              "\n",
              "  .colab-df-quickchart-complete:disabled,\n",
              "  .colab-df-quickchart-complete:disabled:hover {\n",
              "    background-color: var(--disabled-bg-color);\n",
              "    fill: var(--disabled-fill-color);\n",
              "    box-shadow: none;\n",
              "  }\n",
              "\n",
              "  .colab-df-spinner {\n",
              "    border: 2px solid var(--fill-color);\n",
              "    border-color: transparent;\n",
              "    border-bottom-color: var(--fill-color);\n",
              "    animation:\n",
              "      spin 1s steps(1) infinite;\n",
              "  }\n",
              "\n",
              "  @keyframes spin {\n",
              "    0% {\n",
              "      border-color: transparent;\n",
              "      border-bottom-color: var(--fill-color);\n",
              "      border-left-color: var(--fill-color);\n",
              "    }\n",
              "    20% {\n",
              "      border-color: transparent;\n",
              "      border-left-color: var(--fill-color);\n",
              "      border-top-color: var(--fill-color);\n",
              "    }\n",
              "    30% {\n",
              "      border-color: transparent;\n",
              "      border-left-color: var(--fill-color);\n",
              "      border-top-color: var(--fill-color);\n",
              "      border-right-color: var(--fill-color);\n",
              "    }\n",
              "    40% {\n",
              "      border-color: transparent;\n",
              "      border-right-color: var(--fill-color);\n",
              "      border-top-color: var(--fill-color);\n",
              "    }\n",
              "    60% {\n",
              "      border-color: transparent;\n",
              "      border-right-color: var(--fill-color);\n",
              "    }\n",
              "    80% {\n",
              "      border-color: transparent;\n",
              "      border-right-color: var(--fill-color);\n",
              "      border-bottom-color: var(--fill-color);\n",
              "    }\n",
              "    90% {\n",
              "      border-color: transparent;\n",
              "      border-bottom-color: var(--fill-color);\n",
              "    }\n",
              "  }\n",
              "</style>\n",
              "\n",
              "      <script>\n",
              "        async function quickchart(key) {\n",
              "          const quickchartButtonEl =\n",
              "            document.querySelector('#' + key + ' button');\n",
              "          quickchartButtonEl.disabled = true;  // To prevent multiple clicks.\n",
              "          quickchartButtonEl.classList.add('colab-df-spinner');\n",
              "          try {\n",
              "            const charts = await google.colab.kernel.invokeFunction(\n",
              "                'suggestCharts', [key], {});\n",
              "          } catch (error) {\n",
              "            console.error('Error during call to suggestCharts:', error);\n",
              "          }\n",
              "          quickchartButtonEl.classList.remove('colab-df-spinner');\n",
              "          quickchartButtonEl.classList.add('colab-df-quickchart-complete');\n",
              "        }\n",
              "        (() => {\n",
              "          let quickchartButtonEl =\n",
              "            document.querySelector('#df-f9ab8dd6-bd9a-43a9-bac4-658e5a0f67ca button');\n",
              "          quickchartButtonEl.style.display =\n",
              "            google.colab.kernel.accessAllowed ? 'block' : 'none';\n",
              "        })();\n",
              "      </script>\n",
              "    </div>\n",
              "\n",
              "    </div>\n",
              "  </div>\n"
            ],
            "application/vnd.google.colaboratory.intrinsic+json": {
              "type": "dataframe",
              "variable_name": "loja",
              "summary": "{\n  \"name\": \"loja\",\n  \"rows\": 2359,\n  \"fields\": [\n    {\n      \"column\": \"Produto\",\n      \"properties\": {\n        \"dtype\": \"category\",\n        \"num_unique_values\": 51,\n        \"samples\": [\n          \"Viol\\u00e3o\",\n          \"Bola de basquete\",\n          \"Smartwatch\"\n        ],\n        \"semantic_type\": \"\",\n        \"description\": \"\"\n      }\n    },\n    {\n      \"column\": \"Categoria do Produto\",\n      \"properties\": {\n        \"dtype\": \"category\",\n        \"num_unique_values\": 8,\n        \"samples\": [\n          \"moveis\",\n          \"esporte e lazer\",\n          \"eletronicos\"\n        ],\n        \"semantic_type\": \"\",\n        \"description\": \"\"\n      }\n    },\n    {\n      \"column\": \"Pre\\u00e7o\",\n      \"properties\": {\n        \"dtype\": \"number\",\n        \"std\": 819.5827782539145,\n        \"min\": 10.07,\n        \"max\": 3969.38,\n        \"num_unique_values\": 2315,\n        \"samples\": [\n          446.11,\n          107.31,\n          65.86\n        ],\n        \"semantic_type\": \"\",\n        \"description\": \"\"\n      }\n    },\n    {\n      \"column\": \"Frete\",\n      \"properties\": {\n        \"dtype\": \"number\",\n        \"std\": 43.814183327408166,\n        \"min\": 0.0,\n        \"max\": 214.3770604781,\n        \"num_unique_values\": 2149,\n        \"samples\": [\n          83.815279607,\n          16.069664669,\n          14.0344876928\n        ],\n        \"semantic_type\": \"\",\n        \"description\": \"\"\n      }\n    },\n    {\n      \"column\": \"Data da Compra\",\n      \"properties\": {\n        \"dtype\": \"object\",\n        \"num_unique_values\": 1018,\n        \"samples\": [\n          \"15/09/2022\",\n          \"03/06/2020\",\n          \"06/11/2021\"\n        ],\n        \"semantic_type\": \"\",\n        \"description\": \"\"\n      }\n    },\n    {\n      \"column\": \"Vendedor\",\n      \"properties\": {\n        \"dtype\": \"category\",\n        \"num_unique_values\": 14,\n        \"samples\": [\n          \"Juliana Costa\",\n          \"Mariana Ferreira\",\n          \"Pedro Gomes\"\n        ],\n        \"semantic_type\": \"\",\n        \"description\": \"\"\n      }\n    },\n    {\n      \"column\": \"Local da compra\",\n      \"properties\": {\n        \"dtype\": \"category\",\n        \"num_unique_values\": 26,\n        \"samples\": [\n          \"TO\",\n          \"RN\",\n          \"SP\"\n        ],\n        \"semantic_type\": \"\",\n        \"description\": \"\"\n      }\n    },\n    {\n      \"column\": \"Avalia\\u00e7\\u00e3o da compra\",\n      \"properties\": {\n        \"dtype\": \"number\",\n        \"std\": 1,\n        \"min\": 1,\n        \"max\": 5,\n        \"num_unique_values\": 5,\n        \"samples\": [\n          1,\n          2,\n          5\n        ],\n        \"semantic_type\": \"\",\n        \"description\": \"\"\n      }\n    },\n    {\n      \"column\": \"Tipo de pagamento\",\n      \"properties\": {\n        \"dtype\": \"category\",\n        \"num_unique_values\": 4,\n        \"samples\": [\n          \"boleto\",\n          \"cartao_debito\",\n          \"cartao_credito\"\n        ],\n        \"semantic_type\": \"\",\n        \"description\": \"\"\n      }\n    },\n    {\n      \"column\": \"Quantidade de parcelas\",\n      \"properties\": {\n        \"dtype\": \"number\",\n        \"std\": 2,\n        \"min\": 1,\n        \"max\": 24,\n        \"num_unique_values\": 15,\n        \"samples\": [\n          7,\n          14,\n          8\n        ],\n        \"semantic_type\": \"\",\n        \"description\": \"\"\n      }\n    },\n    {\n      \"column\": \"lat\",\n      \"properties\": {\n        \"dtype\": \"number\",\n        \"std\": 5.372399916530833,\n        \"min\": -30.17,\n        \"max\": 1.41,\n        \"num_unique_values\": 26,\n        \"samples\": [\n          -9.46,\n          -5.81,\n          -22.19\n        ],\n        \"semantic_type\": \"\",\n        \"description\": \"\"\n      }\n    },\n    {\n      \"column\": \"lon\",\n      \"properties\": {\n        \"dtype\": \"number\",\n        \"std\": 4.183180020544179,\n        \"min\": -70.55,\n        \"max\": -36.59,\n        \"num_unique_values\": 26,\n        \"samples\": [\n          -48.26,\n          -36.59,\n          -48.79\n        ],\n        \"semantic_type\": \"\",\n        \"description\": \"\"\n      }\n    }\n  ]\n}"
            }
          },
          "metadata": {},
          "execution_count": 13
        }
      ],
      "source": [
        "import pandas as pd\n",
        "\n",
        "url = \"https://raw.githubusercontent.com/alura-es-cursos/challenge1-data-science/refs/heads/main/base-de-dados-challenge-1/loja_1.csv\"\n",
        "url2 = \"https://raw.githubusercontent.com/alura-es-cursos/challenge1-data-science/refs/heads/main/base-de-dados-challenge-1/loja_2.csv\"\n",
        "url3 = \"https://raw.githubusercontent.com/alura-es-cursos/challenge1-data-science/refs/heads/main/base-de-dados-challenge-1/loja_3.csv\"\n",
        "url4 = \"https://raw.githubusercontent.com/alura-es-cursos/challenge1-data-science/refs/heads/main/base-de-dados-challenge-1/loja_4.csv\"\n",
        "\n",
        "loja1 = pd.read_csv(url)\n",
        "loja2 = pd.read_csv(url2)\n",
        "loja3 = pd.read_csv(url3)\n",
        "loja4 = pd.read_csv(url4)\n",
        "\n",
        "loja.head()"
      ]
    },
    {
      "cell_type": "markdown",
      "source": [
        "#1. Análise do faturamento\n"
      ],
      "metadata": {
        "id": "X62IW3KFUIYm"
      }
    },
    {
      "cell_type": "code",
      "source": [
        "loja1[\"loja\"] = \"Loja 1\"\n",
        "loja2[\"loja\"] = \"Loja 2\"\n",
        "loja3[\"loja\"] = \"Loja 3\"\n",
        "loja4[\"loja\"] = \"Loja 4\"\n",
        "\n"
      ],
      "metadata": {
        "id": "xykobSftV64I"
      },
      "execution_count": 17,
      "outputs": []
    },
    {
      "cell_type": "code",
      "source": [
        "df = pd.concat([loja1, loja2, loja3, loja4])\n",
        "\n",
        "\n",
        "faturamento = df.groupby(\"loja\")[\"Preço\"].sum().sort_values(ascending=False)\n",
        "print(faturamento)\n",
        "\n"
      ],
      "metadata": {
        "id": "KDyr8E71V3m-",
        "colab": {
          "base_uri": "https://localhost:8080/"
        },
        "outputId": "2239ad76-3fe9-4ee9-9cf1-ad918129f0ef"
      },
      "execution_count": 19,
      "outputs": [
        {
          "output_type": "stream",
          "name": "stdout",
          "text": [
            "loja\n",
            "Loja 1    1534509.12\n",
            "Loja 2    1488459.06\n",
            "Loja 3    1464025.03\n",
            "Loja 4    1384497.58\n",
            "Name: Preço, dtype: float64\n"
          ]
        }
      ]
    },
    {
      "cell_type": "markdown",
      "source": [
        "# 2. Vendas por Categoria\n"
      ],
      "metadata": {
        "id": "2V_vcAPzWZmR"
      }
    },
    {
      "cell_type": "code",
      "source": [
        "vendas_por_categoria = df.groupby([\"loja\", \"Categoria do Produto\"]).size().unstack().fillna(0).astype(int)\n",
        "print(vendas_por_categoria)\n"
      ],
      "metadata": {
        "id": "A34YupIuYhfF",
        "colab": {
          "base_uri": "https://localhost:8080/"
        },
        "outputId": "3c454cf5-7f49-4892-dc1b-10a5bb716e00"
      },
      "execution_count": 21,
      "outputs": [
        {
          "output_type": "stream",
          "name": "stdout",
          "text": [
            "Categoria do Produto  brinquedos  eletrodomesticos  eletronicos  \\\n",
            "loja                                                              \n",
            "Loja 1                       324               312          448   \n",
            "Loja 2                       313               305          422   \n",
            "Loja 3                       315               278          451   \n",
            "Loja 4                       338               254          451   \n",
            "\n",
            "Categoria do Produto  esporte e lazer  instrumentos musicais  livros  moveis  \\\n",
            "loja                                                                           \n",
            "Loja 1                            284                    182     173     465   \n",
            "Loja 2                            275                    224     197     442   \n",
            "Loja 3                            277                    177     185     499   \n",
            "Loja 4                            277                    170     187     480   \n",
            "\n",
            "Categoria do Produto  utilidades domesticas  \n",
            "loja                                         \n",
            "Loja 1                                  171  \n",
            "Loja 2                                  181  \n",
            "Loja 3                                  177  \n",
            "Loja 4                                  201  \n"
          ]
        }
      ]
    },
    {
      "cell_type": "markdown",
      "source": [
        "# 3. Média de Avaliação das Lojas"
      ],
      "metadata": {
        "id": "Rq6tU_xSY3jk"
      }
    },
    {
      "cell_type": "code",
      "source": [
        "avaliacao_media = df.groupby(\"loja\")[\"Avaliação da compra\"].mean().round(2)\n",
        "print(avaliacao_media)\n"
      ],
      "metadata": {
        "id": "bh3jjjJwY5MU",
        "colab": {
          "base_uri": "https://localhost:8080/"
        },
        "outputId": "9145ddbb-2537-421a-dd3a-5b140c1964a8"
      },
      "execution_count": 22,
      "outputs": [
        {
          "output_type": "stream",
          "name": "stdout",
          "text": [
            "loja\n",
            "Loja 1    3.98\n",
            "Loja 2    4.04\n",
            "Loja 3    4.05\n",
            "Loja 4    4.00\n",
            "Name: Avaliação da compra, dtype: float64\n"
          ]
        }
      ]
    },
    {
      "cell_type": "markdown",
      "source": [
        "# 4. Produtos Mais e Menos Vendidos"
      ],
      "metadata": {
        "id": "DmNp1KPBZCm-"
      }
    },
    {
      "cell_type": "code",
      "source": [
        "vendas_produtos = df.groupby([\"loja\", \"Produto\"]).size().reset_index(name=\"Quantidade\")\n",
        "\n",
        "def top_bottom_por_loja(loja_nome):\n",
        "    dados_loja = vendas_produtos[vendas_produtos[\"loja\"] == loja_nome]\n",
        "    top5 = dados_loja.sort_values(by=\"Quantidade\", ascending=False).head(5)\n",
        "    bottom5 = dados_loja.sort_values(by=\"Quantidade\", ascending=True).head(5)\n",
        "    return top5, bottom5\n",
        "\n",
        "for loja in df[\"loja\"].unique():\n",
        "    top, bottom = top_bottom_por_loja(loja)\n",
        "    print(f\"\\nMais vendidos na {loja}:\")\n",
        "    print(top.to_string(index=False))\n",
        "    print(f\"\\nMenos vendidos na {loja}:\")\n",
        "    print(bottom.to_string(index=False))\n"
      ],
      "metadata": {
        "id": "qoyjqijQZHfF",
        "colab": {
          "base_uri": "https://localhost:8080/"
        },
        "outputId": "78d1b070-87cb-4910-fdd5-9b39d932d49f"
      },
      "execution_count": 25,
      "outputs": [
        {
          "output_type": "stream",
          "name": "stdout",
          "text": [
            "\n",
            "Mais vendidos na Loja 1:\n",
            "  loja            Produto  Quantidade\n",
            "Loja 1      TV Led UHD 4K          60\n",
            "Loja 1        Micro-ondas          60\n",
            "Loja 1      Guarda roupas          60\n",
            "Loja 1 Secadora de roupas          58\n",
            "Loja 1   Blocos de montar          56\n",
            "\n",
            "Menos vendidos na Loja 1:\n",
            "  loja                     Produto  Quantidade\n",
            "Loja 1                Celular ABXY          33\n",
            "Loja 1                     Headset          33\n",
            "Loja 1           Panela de pressão          35\n",
            "Loja 1                    Pandeiro          36\n",
            "Loja 1 Ciência de dados com python          39\n",
            "\n",
            "Mais vendidos na Loja 2:\n",
            "  loja                  Produto  Quantidade\n",
            "Loja 2 Iniciando em programação          65\n",
            "Loja 2              Micro-ondas          62\n",
            "Loja 2                  Bateria          61\n",
            "Loja 2                   Violão          58\n",
            "Loja 2                 Pandeiro          58\n",
            "\n",
            "Menos vendidos na Loja 2:\n",
            "  loja           Produto  Quantidade\n",
            "Loja 2 Jogo de tabuleiro          32\n",
            "Loja 2        Impressora          34\n",
            "Loja 2    Mesa de jantar          34\n",
            "Loja 2          Poltrona          35\n",
            "Loja 2    Fone de ouvido          37\n",
            "\n",
            "Mais vendidos na Loja 3:\n",
            "  loja         Produto  Quantidade\n",
            "Loja 3   Kit banquetas          57\n",
            "Loja 3  Mesa de jantar          56\n",
            "Loja 3       Cama king          56\n",
            "Loja 3          Cômoda          55\n",
            "Loja 3 Jogo de panelas          55\n",
            "\n",
            "Menos vendidos na Loja 3:\n",
            "  loja          Produto  Quantidade\n",
            "Loja 3 Blocos de montar          35\n",
            "Loja 3    Jogo de copos          36\n",
            "Loja 3      Micro-ondas          36\n",
            "Loja 3          Mochila          36\n",
            "Loja 3         Guitarra          38\n",
            "\n",
            "Mais vendidos na Loja 4:\n",
            "  loja                 Produto  Quantidade\n",
            "Loja 4                Cama box          62\n",
            "Loja 4                Faqueiro          59\n",
            "Loja 4               Cama king          56\n",
            "Loja 4 Dashboards com Power BI          56\n",
            "Loja 4                  Cômoda          55\n",
            "\n",
            "Menos vendidos na Loja 4:\n",
            "  loja                     Produto  Quantidade\n",
            "Loja 4                    Guitarra          33\n",
            "Loja 4               Guarda roupas          34\n",
            "Loja 4                      Violão          37\n",
            "Loja 4 Ciência de dados com python          38\n",
            "Loja 4          Lavadora de roupas          38\n"
          ]
        }
      ]
    },
    {
      "cell_type": "markdown",
      "source": [
        "# 5. Frete Médio por Loja\n"
      ],
      "metadata": {
        "id": "Fl0cGi3bZKqU"
      }
    },
    {
      "cell_type": "code",
      "source": [
        "frete_medio = df.groupby(\"loja\")[\"Frete\"].mean().round(2)\n",
        "print(frete_medio)\n"
      ],
      "metadata": {
        "id": "S2JeaCykZNy9",
        "colab": {
          "base_uri": "https://localhost:8080/"
        },
        "outputId": "b544496a-ba51-43bf-c9f3-a343da599ec2"
      },
      "execution_count": 26,
      "outputs": [
        {
          "output_type": "stream",
          "name": "stdout",
          "text": [
            "loja\n",
            "Loja 1    34.69\n",
            "Loja 2    33.62\n",
            "Loja 3    33.07\n",
            "Loja 4    31.28\n",
            "Name: Frete, dtype: float64\n"
          ]
        }
      ]
    },
    {
      "cell_type": "markdown",
      "source": [],
      "metadata": {
        "id": "cfSaJS0Vv4gZ"
      }
    },
    {
      "cell_type": "markdown",
      "source": [
        "# 6. Gráficos\n",
        "\n",
        "\n",
        "\n"
      ],
      "metadata": {
        "id": "xGnzal20v5AZ"
      }
    },
    {
      "cell_type": "code",
      "source": [
        "faturamento = df.groupby(\"loja\")[\"Preço\"].sum().sort_values(ascending=False)\n",
        "\n",
        "faturamento.plot(kind=\"bar\", color=\"skyblue\", figsize=(8, 5))\n",
        "plt.title(\"Faturamento por Loja\")\n",
        "plt.xlabel(\"Loja\")\n",
        "plt.ylabel(\"Faturamento (R$)\")\n",
        "plt.xticks(rotation=0)\n",
        "plt.tight_layout()\n",
        "plt.show()"
      ],
      "metadata": {
        "colab": {
          "base_uri": "https://localhost:8080/",
          "height": 507
        },
        "id": "5cUZMiCJwFYY",
        "outputId": "3d6afefa-e542-43e1-c65d-98df16c26ea5"
      },
      "execution_count": 38,
      "outputs": [
        {
          "output_type": "display_data",
          "data": {
            "text/plain": [
              "<Figure size 800x500 with 1 Axes>"
            ],
            "image/png": "[encoded data removed]"
          },
          "metadata": {}
        }
      ]
    },
    {
      "cell_type": "code",
      "source": [
        "vendas_cat = df.groupby([\"loja\", \"Categoria do Produto\"]).size().unstack().fillna(0)\n",
        "\n",
        "vendas_cat.plot(kind=\"bar\", stacked=True, figsize=(10, 6))\n",
        "plt.title(\"Distribuição das Vendas por Categoria e Loja\")\n",
        "plt.xlabel(\"Loja\")\n",
        "plt.ylabel(\"Quantidade de Produtos Vendidos\")\n",
        "plt.legend(title=\"Categoria\", bbox_to_anchor=(1.05, 1), loc=\"upper left\")\n",
        "plt.tight_layout()\n",
        "plt.show()\n"
      ],
      "metadata": {
        "colab": {
          "base_uri": "https://localhost:8080/",
          "height": 607
        },
        "id": "xI0Xszr_wHcc",
        "outputId": "47b7e584-652c-4a54-c81c-3a3581c67fd7"
      },
      "execution_count": 31,
      "outputs": [
        {
          "output_type": "display_data",
          "data": {
            "text/plain": [
              "<Figure size 1000x600 with 1 Axes>"
            ],
            "image/png": "[encoded data removed]"
          },
          "metadata": {}
        }
      ]
    },
    {
      "cell_type": "code",
      "source": [
        "faturamento = df.groupby(\"loja\")[\"Preço\"].sum()\n",
        "\n",
        "plt.figure(figsize=(8, 8))\n",
        "plt.pie(faturamento, labels=faturamento.index, autopct='%1.1f%%', startangle=140, colors=plt.cm.Paired.colors)\n",
        "plt.title(\"Participação do Faturamento por Loja\")\n",
        "plt.axis('equal')\n",
        "plt.show()\n"
      ],
      "metadata": {
        "colab": {
          "base_uri": "https://localhost:8080/",
          "height": 679
        },
        "id": "oaX7kdDvwH0z",
        "outputId": "c1e37661-063c-49a8-e064-0d9c52b50dea"
      },
      "execution_count": 39,
      "outputs": [
        {
          "output_type": "display_data",
          "data": {
            "text/plain": [
              "<Figure size 800x800 with 1 Axes>"
            ],
            "image/png": "[encoded data removed]"
          },
          "metadata": {}
        }
      ]
    },
    {
      "cell_type": "markdown",
      "source": [],
      "metadata": {
        "id": "3CZt1xvN0ULE"
      }
    },
    {
      "cell_type": "markdown",
      "source": [
        "# 7. Relatório final\n"
      ],
      "metadata": {
        "id": "Xgqecrns0Uy_"
      }
    },
    {
      "cell_type": "markdown",
      "source": [
        "Relatório Final — Indicação de Loja para Priorizar (ou Descontinuar)\n",
        "Introdução\n",
        "Este relatório analisa quatro lojas do Senhor João, com o objetivo de identificar qual delas apresenta o melhor desempenho para concentrar as vendas e qual apresenta o pior desempenho, podendo ser descontinuada ou receber menos investimento.\n",
        "\n",
        "Análise\n",
        "Faturamento Total\n",
        "Loja 1 tem o maior faturamento: R$ 1.534.509,12\n",
        "\n",
        "Loja 4 tem o menor faturamento: R$ 1.384.497,58\n",
        "\n",
        "Avaliação Média dos Clientes\n",
        "Loja 3 tem a melhor avaliação: 4,05\n",
        "\n",
        "Loja 1 tem a pior avaliação: 3,98\n",
        "\n",
        "Frete Médio\n",
        "Loja 4 tem o frete mais barato: R$ 31,28\n",
        "\n",
        "Loja 1 tem o frete mais caro: R$ 34,69\n",
        "\n",
        "Produtos e Categorias\n",
        "Todas as lojas têm categorias similares, com móveis e eletrônicos entre as mais vendidas.\n",
        "\n",
        "Os produtos menos vendidos estão mais presentes na Loja 1 e Loja 4.\n",
        "\n",
        "Conclusão e Recomendação\n",
        "Embora a Loja 1 apresente o maior faturamento, sua avaliação mais baixa e o frete mais caro indicam possíveis problemas de satisfação e custo para os clientes.\n",
        "\n",
        "A Loja 4, apesar do frete mais barato, tem o menor faturamento, o que pode indicar baixo desempenho de vendas.\n",
        "\n",
        "A Loja 3 destaca-se pela melhor avaliação e um faturamento próximo ao topo, além de um frete competitivo.\n",
        "\n",
        "Portanto, a recomendação é:\n",
        "\n",
        "Focar as vendas e investimentos principalmente nas Lojas 2 e 3, que equilibram faturamento, avaliação e custo de frete.\n",
        "\n",
        "Avaliar a possibilidade de descontinuar ou reestruturar a Loja 4, devido ao menor faturamento.\n",
        "\n",
        "Rever estratégias na Loja 1 para melhorar a satisfação do cliente e reduzir custos de frete, pois mesmo sendo a mais lucrativa, apresenta pontos fracos.\n",
        "\n",
        "Assim, o Senhor João poderá otimizar seu portfólio e maximizar resultados focando nas lojas que oferecem melhor retorno e experiência ao cliente."
      ],
      "metadata": {
        "id": "MY4yVpS00g3w"
      }
    }
  ]
}